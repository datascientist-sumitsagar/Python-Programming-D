{
 "cells": [
  {
   "cell_type": "markdown",
   "metadata": {},
   "source": [
    "### List Recap\n",
    "\n",
    "-  Powerful\n",
    "-  Collection of values\n",
    "-  Hold different types\n",
    "-  Change Add, Remove\n"
   ]
  },
  {
   "cell_type": "markdown",
   "metadata": {},
   "source": [
    "### Major Drawback in List & Main reason for Numpy\n",
    "\n",
    "-  Mathematical operation over collections\n",
    "-  Speed"
   ]
  },
  {
   "cell_type": "code",
   "execution_count": 9,
   "metadata": {},
   "outputs": [
    {
     "name": "stdout",
     "output_type": "stream",
     "text": [
      "[1.73, 1.68, 1.71, 1.89, 1.79]\n",
      "[65.4, 59.2, 63.6, 88.4, 68.7]\n"
     ]
    },
    {
     "ename": "TypeError",
     "evalue": "unsupported operand type(s) for ** or pow(): 'list' and 'int'",
     "output_type": "error",
     "traceback": [
      "\u001b[1;31m---------------------------------------------------------------------------\u001b[0m",
      "\u001b[1;31mTypeError\u001b[0m                                 Traceback (most recent call last)",
      "\u001b[1;32m<ipython-input-9-c21c1eec49ea>\u001b[0m in \u001b[0;36m<module>\u001b[1;34m()\u001b[0m\n\u001b[0;32m      6\u001b[0m \u001b[1;33m\u001b[0m\u001b[0m\n\u001b[0;32m      7\u001b[0m \u001b[1;31m# Measure BMI\u001b[0m\u001b[1;33m\u001b[0m\u001b[1;33m\u001b[0m\u001b[0m\n\u001b[1;32m----> 8\u001b[1;33m \u001b[0mweight\u001b[0m \u001b[1;33m/\u001b[0m \u001b[0mheight\u001b[0m \u001b[1;33m**\u001b[0m \u001b[1;36m2\u001b[0m  \u001b[1;31m# OUTPUT WITH TYPE ERROR\u001b[0m\u001b[1;33m\u001b[0m\u001b[0m\n\u001b[0m",
      "\u001b[1;31mTypeError\u001b[0m: unsupported operand type(s) for ** or pow(): 'list' and 'int'"
     ]
    }
   ],
   "source": [
    "height = [1.73, 1.68, 1.71, 1.89, 1.79] # LIST 1\n",
    "print(height)\n",
    "\n",
    "weight = [65.4, 59.2, 63.6, 88.4, 68.7] # lIST 2\n",
    "print(weight)\n",
    "\n",
    "# Measure BMI\n",
    "weight / height ** 2  # OUTPUT WITH TYPE ERROR"
   ]
  },
  {
   "cell_type": "markdown",
   "metadata": {},
   "source": [
    "<b>in the previous example its very hard to calculate BMI & we need to calculate BMI Individualy . It will take more time </b>"
   ]
  },
  {
   "cell_type": "markdown",
   "metadata": {},
   "source": [
    "### Numpy :-Solution for previous Type Error\n",
    "\n",
    "-  Numeric python\n",
    "-  Alternative to python list : NumpyArray\n",
    "-  calculation over entire Array\n",
    "-  Easy & Fast\n",
    "-  Installation :- \n",
    "   -  <code>pip install numpy</code>"
   ]
  },
  {
   "cell_type": "code",
   "execution_count": 8,
   "metadata": {},
   "outputs": [
    {
     "name": "stdout",
     "output_type": "stream",
     "text": [
      "Package                            Version   \n",
      "---------------------------------- ----------\n",
      "alabaster                          0.7.10    \n",
      "anaconda-client                    1.6.14    \n",
      "anaconda-navigator                 1.9.6     \n",
      "anaconda-project                   0.8.2     \n",
      "asn1crypto                         0.24.0    \n",
      "astroid                            1.6.3     \n",
      "astropy                            3.0.2     \n",
      "attrs                              18.1.0    \n",
      "Babel                              2.5.3     \n",
      "backcall                           0.1.0     \n",
      "backports.shutil-get-terminal-size 1.0.0     \n",
      "beautifulsoup4                     4.6.0     \n",
      "bitarray                           0.8.1     \n",
      "bkcharts                           0.2       \n",
      "blaze                              0.11.3    \n",
      "bleach                             2.1.3     \n",
      "bokeh                              0.12.16   \n",
      "boto                               2.48.0    \n",
      "Bottleneck                         1.2.1     \n",
      "certifi                            2018.11.29\n",
      "cffi                               1.11.5    \n",
      "chardet                            3.0.4     \n",
      "click                              6.7       \n",
      "cloudpickle                        0.5.3     \n",
      "clyent                             1.2.2     \n",
      "colorama                           0.3.9     \n",
      "comtypes                           1.1.4     \n",
      "conda                              4.6.4     \n",
      "conda-build                        3.10.5    \n",
      "conda-verify                       2.0.0     \n",
      "contextlib2                        0.5.5     \n",
      "cryptography                       2.4.2     \n",
      "cycler                             0.10.0    \n",
      "Cython                             0.28.2    \n",
      "cytoolz                            0.9.0.1   \n",
      "dask                               0.17.5    \n",
      "datashape                          0.5.4     \n",
      "decorator                          4.3.0     \n",
      "distributed                        1.21.8    \n",
      "docutils                           0.14      \n",
      "entrypoints                        0.2.3     \n",
      "et-xmlfile                         1.0.1     \n",
      "fastcache                          1.0.2     \n",
      "filelock                           3.0.4     \n",
      "Flask                              1.0.2     \n",
      "Flask-Cors                         3.0.4     \n",
      "gevent                             1.3.0     \n",
      "glob2                              0.6       \n",
      "greenlet                           0.4.13    \n",
      "h5py                               2.7.1     \n",
      "heapdict                           1.0.0     \n",
      "html5lib                           1.0.1     \n",
      "idna                               2.6       \n",
      "imageio                            2.3.0     \n",
      "imagesize                          1.0.0     \n",
      "ipykernel                          4.8.2     \n",
      "ipython                            6.4.0     \n",
      "ipython-genutils                   0.2.0     \n",
      "ipywidgets                         7.2.1     \n",
      "isort                              4.3.4     \n",
      "itsdangerous                       0.24      \n",
      "jdcal                              1.4       \n",
      "jedi                               0.12.0    \n",
      "Jinja2                             2.10      \n",
      "jsonschema                         2.6.0     \n",
      "jupyter                            1.0.0     \n",
      "jupyter-client                     5.2.3     \n",
      "jupyter-console                    5.2.0     \n",
      "jupyter-core                       4.4.0     \n",
      "jupyterlab                         0.32.1    \n",
      "jupyterlab-launcher                0.10.5    \n",
      "kiwisolver                         1.0.1     \n",
      "lazy-object-proxy                  1.3.1     \n",
      "llvmlite                           0.23.1    \n",
      "locket                             0.2.0     \n",
      "lxml                               4.2.1     \n",
      "MarkupSafe                         1.0       \n",
      "matplotlib                         2.2.2     \n",
      "mccabe                             0.6.1     \n",
      "menuinst                           1.4.14    \n",
      "mistune                            0.8.3     \n",
      "mkl-fft                            1.0.6     \n",
      "mkl-random                         1.0.1     \n",
      "more-itertools                     4.1.0     \n",
      "mpmath                             1.0.0     \n",
      "msgpack-python                     0.5.6     \n",
      "multipledispatch                   0.5.0     \n",
      "navigator-updater                  0.2.1     \n",
      "nb-conda                           2.2.1     \n",
      "nb-conda-kernels                   2.2.0     \n",
      "nbconvert                          5.3.1     \n",
      "nbformat                           4.4.0     \n",
      "networkx                           2.1       \n",
      "nltk                               3.3       \n",
      "nose                               1.3.7     \n",
      "notebook                           5.5.0     \n",
      "numba                              0.38.0    \n",
      "numexpr                            2.6.5     \n",
      "numpy                              1.15.4    \n",
      "numpydoc                           0.8.0     \n",
      "odo                                0.5.1     \n",
      "olefile                            0.45.1    \n",
      "openpyxl                           2.5.3     \n",
      "packaging                          17.1      \n",
      "pandas                             0.23.0    \n",
      "pandocfilters                      1.4.2     \n",
      "parso                              0.2.0     \n",
      "partd                              0.3.8     \n",
      "path.py                            11.0.1    \n",
      "pathlib2                           2.3.2     \n",
      "patsy                              0.5.0     \n",
      "pep8                               1.7.1     \n",
      "pickleshare                        0.7.4     \n",
      "Pillow                             5.1.0     \n",
      "pip                                19.0.3    \n",
      "pkginfo                            1.4.2     \n",
      "pluggy                             0.6.0     \n",
      "ply                                3.11      \n",
      "prompt-toolkit                     1.0.15    \n",
      "psutil                             5.4.5     \n",
      "py                                 1.5.3     \n",
      "pycodestyle                        2.4.0     \n",
      "pycosat                            0.6.3     \n",
      "pycparser                          2.18      \n",
      "pycrypto                           2.6.1     \n",
      "pycurl                             7.43.0.2  \n",
      "pyflakes                           1.6.0     \n",
      "Pygments                           2.2.0     \n",
      "pylint                             1.8.4     \n",
      "pyodbc                             4.0.23    \n",
      "pyOpenSSL                          18.0.0    \n",
      "pyparsing                          2.2.0     \n",
      "PySocks                            1.6.8     \n",
      "pytest                             3.5.1     \n",
      "pytest-arraydiff                   0.2       \n",
      "pytest-astropy                     0.3.0     \n",
      "pytest-doctestplus                 0.1.3     \n",
      "pytest-openfiles                   0.3.0     \n",
      "pytest-remotedata                  0.2.1     \n",
      "python-dateutil                    2.7.3     \n",
      "pytz                               2018.4    \n",
      "PyWavelets                         0.5.2     \n",
      "pywin32                            223       \n",
      "pywinpty                           0.5.1     \n",
      "PyYAML                             3.12      \n",
      "pyzmq                              17.0.0    \n",
      "QtAwesome                          0.4.4     \n",
      "qtconsole                          4.3.1     \n",
      "QtPy                               1.4.1     \n",
      "requests                           2.18.4    \n",
      "rope                               0.10.7    \n",
      "ruamel-yaml                        0.15.35   \n",
      "scikit-image                       0.13.1    \n",
      "scikit-learn                       0.19.1    \n",
      "scipy                              1.1.0     \n",
      "seaborn                            0.8.1     \n",
      "Send2Trash                         1.5.0     \n",
      "setuptools                         39.1.0    \n",
      "simplegeneric                      0.8.1     \n",
      "singledispatch                     3.4.0.3   \n",
      "six                                1.11.0    \n",
      "snowballstemmer                    1.2.1     \n",
      "sortedcollections                  0.6.1     \n",
      "sortedcontainers                   1.5.10    \n",
      "Sphinx                             1.7.4     \n",
      "sphinxcontrib-websupport           1.0.1     \n",
      "spyder                             3.2.8     \n",
      "SQLAlchemy                         1.2.7     \n",
      "statsmodels                        0.9.0     \n",
      "sympy                              1.1.1     \n",
      "tables                             3.4.3     \n",
      "tblib                              1.3.2     \n",
      "terminado                          0.8.1     \n",
      "testpath                           0.3.1     \n",
      "toolz                              0.9.0     \n",
      "tornado                            5.0.2     \n",
      "traitlets                          4.3.2     \n",
      "typing                             3.6.4     \n",
      "unicodecsv                         0.14.1    \n",
      "urllib3                            1.22      \n",
      "wcwidth                            0.1.7     \n",
      "webencodings                       0.5.1     \n",
      "Werkzeug                           0.14.1    \n",
      "wheel                              0.31.1    \n",
      "widgetsnbextension                 3.2.1     \n",
      "win-inet-pton                      1.0.1     \n",
      "win-unicode-console                0.5       \n",
      "wincertstore                       0.2       \n",
      "wrapt                              1.10.11   \n",
      "xlrd                               1.1.0     \n",
      "XlsxWriter                         1.0.4     \n",
      "xlwings                            0.11.8    \n",
      "xlwt                               1.3.0     \n",
      "zict                               0.1.3     \n"
     ]
    }
   ],
   "source": [
    "! pip list"
   ]
  },
  {
   "cell_type": "markdown",
   "metadata": {},
   "source": [
    "<b>Already Numpy Install</b>"
   ]
  },
  {
   "cell_type": "markdown",
   "metadata": {},
   "source": [
    "#### Now come to Solution & why Numpy is required over List"
   ]
  },
  {
   "cell_type": "code",
   "execution_count": 16,
   "metadata": {},
   "outputs": [
    {
     "name": "stdout",
     "output_type": "stream",
     "text": [
      "[1.73 1.68 1.71 1.89 1.79]\n",
      "[65.4 59.2 63.6 88.4 68.7]\n"
     ]
    },
    {
     "data": {
      "text/plain": [
       "array([21.85171573, 20.97505669, 21.75028214, 24.7473475 , 21.44127836])"
      ]
     },
     "execution_count": 16,
     "metadata": {},
     "output_type": "execute_result"
    }
   ],
   "source": [
    "import numpy as np\n",
    "\n",
    "height = [1.73, 1.68, 1.71, 1.89, 1.79] # LIST 1\n",
    "weight = [65.4, 59.2, 63.6, 88.4, 68.7] # lIST 2\n",
    "\n",
    "\n",
    "np_height = np.array(height) # convert into numpy from list\n",
    "print(np_height)\n",
    "\n",
    "np_weight = np.array(weight) # convert into numpy from list\n",
    "print(np_weight)\n",
    "\n",
    "# Now calculate bmi\n",
    "bmi = np_weight / np_height **2\n",
    "bmi"
   ]
  },
  {
   "cell_type": "markdown",
   "metadata": {},
   "source": [
    "#### Numpy : Limitation & Remarks\n",
    "\n",
    "-  only one type of data either float, int, bool , str & others\n",
    "-  bcoz numpy is another python objects so have own methods "
   ]
  },
  {
   "cell_type": "markdown",
   "metadata": {},
   "source": [
    "<b>One difference between method of list & Numpy</b> "
   ]
  },
  {
   "cell_type": "code",
   "execution_count": 20,
   "metadata": {},
   "outputs": [
    {
     "name": "stdout",
     "output_type": "stream",
     "text": [
      "[1, 2, 3, 1, 2, 3]\n",
      "[2 4 6]\n"
     ]
    }
   ],
   "source": [
    "# list example \n",
    "python_list = [1, 2, 3]\n",
    "\n",
    "print(python_list + python_list)  # See 1st output for same method for addition\n",
    "\n",
    "\n",
    "# Numpy Example with same \n",
    "numpy_array = np.array(python_list)\n",
    "print( numpy_array + numpy_array) # See 2nd output for same method for addition"
   ]
  },
  {
   "cell_type": "markdown",
   "metadata": {},
   "source": [
    "## Numpy Subsetting"
   ]
  },
  {
   "cell_type": "code",
   "execution_count": 28,
   "metadata": {},
   "outputs": [
    {
     "name": "stdout",
     "output_type": "stream",
     "text": [
      "[21.85171573 20.97505669 21.75028214 24.7473475  21.44127836]\n",
      "20.97505668934241\n",
      "24.74734749867025\n"
     ]
    },
    {
     "data": {
      "text/plain": [
       "array([False, False, False,  True, False])"
      ]
     },
     "execution_count": 28,
     "metadata": {},
     "output_type": "execute_result"
    }
   ],
   "source": [
    "print(bmi) # prevously we calculated bmi\n",
    "\n",
    "print(bmi[1]) # individual output from numpy array\n",
    "print(bmi[3]) # individual output from numpy array\n",
    "\n",
    "bmi > 23 # output in boolean\n",
    "\n"
   ]
  },
  {
   "cell_type": "code",
   "execution_count": 29,
   "metadata": {},
   "outputs": [
    {
     "data": {
      "text/plain": [
       "array([24.7473475])"
      ]
     },
     "execution_count": 29,
     "metadata": {},
     "output_type": "execute_result"
    }
   ],
   "source": [
    "bmi[bmi>23] #only one value, bmi of bmi values in array greater than 23 that we got bool value true in previous example "
   ]
  },
  {
   "cell_type": "code",
   "execution_count": 30,
   "metadata": {},
   "outputs": [
    {
     "data": {
      "text/plain": [
       "array([21.85171573, 21.75028214, 24.7473475 , 21.44127836])"
      ]
     },
     "execution_count": 30,
     "metadata": {},
     "output_type": "execute_result"
    }
   ],
   "source": [
    "bmi[bmi> 21] # Same way 4 value "
   ]
  },
  {
   "cell_type": "code",
   "execution_count": 34,
   "metadata": {},
   "outputs": [
    {
     "data": {
      "text/plain": [
       "array([20.97505669, 21.75028214])"
      ]
     },
     "execution_count": 34,
     "metadata": {},
     "output_type": "execute_result"
    }
   ],
   "source": [
    "bmi[1:3] # bmi for 1st & 2nd exclude 3rd"
   ]
  },
  {
   "cell_type": "markdown",
   "metadata": {},
   "source": [
    "#### Exercise : Your first numpy array"
   ]
  },
  {
   "cell_type": "raw",
   "metadata": {},
   "source": [
    "Your First NumPy Array\n",
    "In this chapter, we're going to dive into the world of baseball. Along the way, you'll get comfortable with the basics of numpy, a powerful package to do data science.\n",
    "\n",
    "A list baseball has already been defined in the Python script, representing the height of some baseball players in centimeters. Can you add some code here and there to create a numpy array from it?\n",
    "\n",
    "Instructions:\n",
    "1). Import the numpy package as np, so that you can refer to numpy with np.\n",
    "2). Use np.array() to create a numpy array from baseball. Name this array np_baseball.\n",
    "3). Print out the type of np_baseball to check that you got it right."
   ]
  },
  {
   "cell_type": "code",
   "execution_count": 35,
   "metadata": {},
   "outputs": [
    {
     "name": "stdout",
     "output_type": "stream",
     "text": [
      "<class 'numpy.ndarray'>\n"
     ]
    }
   ],
   "source": [
    "# Create list baseball\n",
    "baseball = [180, 215, 210, 210, 188, 176, 209, 200]\n",
    "\n",
    "# Import the numpy package as np\n",
    "import numpy as np\n",
    "\n",
    "# Create a numpy array from baseball: np_baseball\n",
    "np_baseball = np.array(baseball)\n",
    "\n",
    "# Print out type of np_baseball\n",
    "print(type(np_baseball))"
   ]
  },
  {
   "cell_type": "code",
   "execution_count": 47,
   "metadata": {},
   "outputs": [
    {
     "name": "stdout",
     "output_type": "stream",
     "text": [
      "[74 74 72 72 73 69 69 71 76 71 73 73 74 74 69 70 73 75 78 79 76 74 76 72\n",
      " 71 75 77 74 73 74]\n",
      "[1.8796 1.8796 1.8288 1.8288 1.8542 1.7526 1.7526 1.8034 1.9304 1.8034\n",
      " 1.8542 1.8542 1.8796 1.8796 1.7526 1.778  1.8542 1.905  1.9812 2.0066\n",
      " 1.9304 1.8796 1.9304 1.8288 1.8034 1.905  1.9558 1.8796 1.8542 1.8796]\n"
     ]
    }
   ],
   "source": [
    "height_in = [74,74, 72,72, 73,69,69, 71,76,71, 73, 73, 74,74,69,70, 73, 75, 78, 79, 76,74,76,72,71,75,77,74,73,74]\n",
    "\n",
    "# height is available as a regular list\n",
    "\n",
    "# Import numpy\n",
    "import numpy as np\n",
    "\n",
    "# Create a numpy array from height_in: np_height_in\n",
    "np_height_in = np.array(height_in)\n",
    "\n",
    "# Print out np_height_in\n",
    "print(np_height_in)\n",
    "\n",
    "# Convert np_height_in to m: np_height_m\n",
    "np_height_m = np_height_in * 0.0254\n",
    "\n",
    "# Print np_height_m\n",
    "print(np_height_m)  # converted inches into meters"
   ]
  },
  {
   "cell_type": "code",
   "execution_count": 48,
   "metadata": {},
   "outputs": [
    {
     "name": "stdout",
     "output_type": "stream",
     "text": [
      "[180, 215, 210, 210, 188, 176, 209, 200, 231, 180, 188, 180, 185, 160, 180, 185, 189, 185, 219, 230, 205, 230, 195, 180, 192, 225, 203, 195, 182, 188]\n"
     ]
    }
   ],
   "source": [
    "weight_lb = [180, 215, 210, 210, 188, 176, 209, 200, 231, 180, 188, 180, 185, 160, 180, 185, 189, 185, 219, 230, 205, 230, \n",
    "             195, 180, 192, 225, 203, 195, 182, 188]\n",
    "print(weight_lb)\n"
   ]
  },
  {
   "cell_type": "markdown",
   "metadata": {},
   "source": [
    "#### Exercise : Baseball player's BMI"
   ]
  },
  {
   "cell_type": "raw",
   "metadata": {},
   "source": [
    "Baseball player's BMI\n",
    "The MLB also offers to let you analyze their weight data. Again, both are available as regular Python lists: height_in and weight. height_in is in inches and weight_lb is in pounds.\n",
    "\n",
    "It's now possible to calculate the BMI of each baseball player. Python code to convert height_in to a numpy array with the correct units is already available in the workspace. Follow the instructions step by step and finish the game!\n",
    "\n",
    "\n",
    "Instructions:\n",
    "-  Create a numpy array from the weight_lb list with the correct units. Multiply by 0.453592 to go from pounds to kilograms. Store the resulting numpy array as np_weight_kg.\n",
    "-  Use np_height_m and np_weight_kg to calculate the BMI of each player. Use the following equation:\n",
    "-  BMI=weight(kg)height(m)2\n",
    "-  Save the resulting numpy array as bmi.\n",
    "-  Print out bmi."
   ]
  },
  {
   "cell_type": "code",
   "execution_count": 51,
   "metadata": {},
   "outputs": [
    {
     "name": "stdout",
     "output_type": "stream",
     "text": [
      "[23.11037639 27.60406069 28.48080465 28.48080465 24.80333518 25.99036864\n",
      " 30.86356276 27.89402921 28.11789135 25.10462629 24.80333518 23.7478741\n",
      " 23.75233129 20.54255679 26.58105883 26.54444207 24.93526781 23.12315842\n",
      " 25.30771077 25.91025019 24.95310704 29.52992539 23.73588231 24.41211827\n",
      " 26.77826804 28.12276025 24.07202028 25.03624109 24.01173937 24.13750423]\n"
     ]
    }
   ],
   "source": [
    "# height and weight are available as regular lists\n",
    "# height_in & weight_lb previously given\n",
    "\n",
    "# Import numpy\n",
    "import numpy as np\n",
    "\n",
    "# Create array from height_in with metric units: np_height_m\n",
    "np_height_m = np.array(height_in) * 0.0254 # inches to meter\n",
    "\n",
    "# Create array from weight_lb with metric units: np_weight_kg\n",
    "np_weight_kg = np.array(weight_lb) * 0.453592 # pound to kilogram\n",
    "\n",
    "# Calculate the BMI: bmi\n",
    "bmi = np_weight_kg / np_height_m ** 2\n",
    "\n",
    "# Print out bmi\n",
    "print(bmi)"
   ]
  },
  {
   "cell_type": "markdown",
   "metadata": {},
   "source": [
    "#### Exercise : Lightweight baseball players\n"
   ]
  },
  {
   "cell_type": "raw",
   "metadata": {},
   "source": [
    "Lightweight baseball players\n",
    "To subset both regular Python lists and numpy arrays, you can use square brackets:\n",
    "\n",
    "x = [4 , 9 , 6, 3, 1]\n",
    "x[1]\n",
    "import numpy as np\n",
    "y = np.array(x)\n",
    "y[1]\n",
    "For numpy specifically, you can also use boolean numpy arrays:\n",
    "\n",
    "high = y > 5\n",
    "y[high]\n",
    "The code that calculates the BMI of all baseball players is already included. Follow the instructions and reveal interesting things from the data!\n",
    "\n",
    "\n",
    "Instructions:\n",
    "1). Create a boolean numpy array: the element of the array should be True if the corresponding baseball player's BMI is below 21. You can use the < operator for this. Name the array light.\n",
    "2). Print the array light.\n",
    "3). Print out a numpy array with the BMIs of all baseball players whose BMI is below 21. Use light inside square brackets to do a selection on the bmi array.\n"
   ]
  },
  {
   "cell_type": "code",
   "execution_count": 3,
   "metadata": {},
   "outputs": [
    {
     "name": "stdout",
     "output_type": "stream",
     "text": [
      "[False False False False False False False False False False False False\n",
      " False  True False False False False False False False False False False\n",
      " False False False False False False]\n",
      "[20.54255679]\n"
     ]
    }
   ],
   "source": [
    "# height and weight are available as a regular lists\n",
    "\n",
    "height_in = [74,74, 72,72, 73,69,69, 71,76,71, 73, 73, 74,74,69,70, 73, 75, 78, 79, 76,74,76,72,71,75,77,74,73,74]\n",
    "weight_lb = [180, 215, 210, 210, 188, 176, 209, 200, 231, 180, 188, 180, 185, 160, 180, 185, 189, 185, 219, 230, 205, 230, \n",
    "             195, 180, 192, 225, 203, 195, 182, 188]\n",
    "\n",
    "\n",
    "# Import numpy\n",
    "import numpy as np\n",
    "\n",
    "# Calculate the BMI: bmi\n",
    "np_height_m = np.array(height_in) * 0.0254\n",
    "np_weight_kg = np.array(weight_lb) * 0.453592\n",
    "bmi = np_weight_kg / np_height_m ** 2\n",
    "\n",
    "# Create the light array\n",
    "light = bmi < 21 \n",
    "# light[light]\n",
    "\n",
    "# Print out light\n",
    "print(light)\n",
    "\n",
    "# Print out BMIs of all baseball players whose BMI is below 21\n",
    "print(bmi[light])\n",
    "# print(bmi[bmi < 21])"
   ]
  },
  {
   "cell_type": "markdown",
   "metadata": {},
   "source": [
    "#### Exercise :- NumPy Side Effects"
   ]
  },
  {
   "cell_type": "raw",
   "metadata": {},
   "source": [
    "As Filip explained before, numpy is great for doing vector arithmetic. If you compare its functionality with regular Python lists, however, some things have changed.\n",
    "\n",
    "First of all, numpy arrays cannot contain elements with different types. If you try to build such a list, some of the elements' types are changed to end up with a homogeneous list. This is known as type coercion.\n",
    "\n",
    "Second, the typical arithmetic operators, such as +, -, * and / have a different meaning for regular Python lists and numpy arrays.\n",
    "\n",
    "Have a look at this line of code:\n",
    "\n",
    "np.array([True, 1, 2]) + np.array([3, 4, False])\n",
    "\n",
    "Can you tell which code chunk builds the exact same Python object? The numpy package is already imported as np, so you can start experimenting in the IPython Shell straight away!"
   ]
  },
  {
   "cell_type": "code",
   "execution_count": 5,
   "metadata": {},
   "outputs": [
    {
     "name": "stdout",
     "output_type": "stream",
     "text": [
      "[4 5 2]\n"
     ]
    }
   ],
   "source": [
    "import numpy as np\n",
    "print(np.array([True, 1, 2]) + np.array([3, 4, False]))"
   ]
  },
  {
   "cell_type": "code",
   "execution_count": 9,
   "metadata": {},
   "outputs": [
    {
     "name": "stdout",
     "output_type": "stream",
     "text": [
      "[1 1 2 3 4 0]\n",
      "[4 5 2]\n",
      "[0 1 2 3 4 5]\n",
      "[4 5 1]\n"
     ]
    }
   ],
   "source": [
    "import numpy as np\n",
    "print(np.array([True, 1, 2, 3, 4, False])) # 1st\n",
    "print(np.array([4,3,0]) + np.array([0,2,2])) # 2nd\n",
    "print(np.array([0, 1, 2, 3, 4, 5])) # 3rd\n",
    "print(np.array([1,1,2]) + np.array([3,4,-1])) # 4th\n",
    "\n",
    "\n",
    "#  Solution :- Right answer match with 2nd "
   ]
  },
  {
   "cell_type": "markdown",
   "metadata": {},
   "source": [
    "#### Exercise : Subsetting NumPy Arrays"
   ]
  },
  {
   "cell_type": "raw",
   "metadata": {},
   "source": [
    "Subsetting NumPy Arrays\n",
    "You've seen it with your own eyes: Python lists and numpy arrays sometimes behave differently. Luckily, there are still certainties in this world. For example, subsetting (using the square bracket notation on lists or arrays) works exactly the same. To see this for yourself, try the following lines of code in the IPython Shell:\n",
    "\n",
    "x = [\"a\", \"b\", \"c\"]\n",
    "x[1]\n",
    "\n",
    "np_x = np.array(x)\n",
    "np_x[1]\n",
    "The script on the right already contains code that imports numpy as np, and stores both the height and weight of the MLB players as numpy arrays.\n",
    "\n",
    "\n",
    "\n",
    "Instructions:\n",
    "1). Subset np_weight_lb by printing out the element at index 30.\n",
    "2). Print out a sub-array of np_height_in that contains the elements at index 10 up to and including index 20.\n"
   ]
  },
  {
   "cell_type": "code",
   "execution_count": 9,
   "metadata": {},
   "outputs": [
    {
     "name": "stdout",
     "output_type": "stream",
     "text": [
      "200\n",
      "[73 73 74 74 69 70 73 75 78 79 76]\n"
     ]
    }
   ],
   "source": [
    "import numpy as np\n",
    "\n",
    "weight_lb = [180, 215, 210, 210, 188, 176, 209, 200, 231, 180, 188, 180, 185, 160, 180, 185, 189, 185, 219, 230, 205, 230, \n",
    "             195, 180, 192, 225, 203, 195, 182, 188, 200, 180, 200, 200, 245, 240, 215, 185, 175, 199,  200, 215, 200, 205, \n",
    "             206, 186, 188, 220]\n",
    "height_in = [74, 74, 72, 72, 73, 69, 69, 71, 76, 71, 73, 73, 74, 74, 69, 70, 73, 75, 78, 79, 76, 74, 76, 72, \n",
    "              71, 75, 77, 74, 73, 74, 78, 73, 75, 73, 75, 75, 74, 69, 71, 74, 73, 73, 76, 74, 74, 70, 72, 77]\n",
    " \n",
    "\n",
    "# Store weight and height lists as numpy arrays\n",
    "np_weight_lb = np.array(weight_lb)\n",
    "np_height_in = np.array(height_in)\n",
    "\n",
    "# Print out the weight at index 30\n",
    "print(np_weight_lb[30])\n",
    "\n",
    "# Print out sub-array of np_height_in: index 10 up to and including index 20\n",
    "print(np_height_in[10 :21])"
   ]
  },
  {
   "cell_type": "markdown",
   "metadata": {},
   "source": [
    "### 2D Numpy Array\n",
    "\n",
    "-  N-Dimensional Array\n",
    "-  2-Dimensional Array\n",
    "-  3-Dimensional Array"
   ]
  },
  {
   "cell_type": "code",
   "execution_count": 11,
   "metadata": {},
   "outputs": [
    {
     "name": "stdout",
     "output_type": "stream",
     "text": [
      "<class 'numpy.ndarray'>\n",
      "<class 'numpy.ndarray'>\n"
     ]
    }
   ],
   "source": [
    "import numpy as np\n",
    "\n",
    "np_height = np.array([1.73, 1.68, 1.71, 1.89, 1.79])\n",
    "np_weight = np.array([65.4, 59.2, 63.6, 88.4, 68.7])\n",
    "\n",
    "# Type of Array\n",
    "\n",
    "print(type(np_height))  # N-Dimensional Array\n",
    "print(type(np_weight))  # N-Dimensional Array"
   ]
  },
  {
   "cell_type": "markdown",
   "metadata": {},
   "source": [
    "##### 2D Numpy Array Example"
   ]
  },
  {
   "cell_type": "code",
   "execution_count": 29,
   "metadata": {},
   "outputs": [
    {
     "name": "stdout",
     "output_type": "stream",
     "text": [
      "<class 'numpy.ndarray'>\n",
      "[[ 1.73  1.68  1.71  1.89  1.79]\n",
      " [65.4  59.2  63.6  88.4  68.7 ]]\n",
      "<class 'numpy.float64'>\n"
     ]
    }
   ],
   "source": [
    "np_2d = np.array([[1.73, 1.68, 1.71, 1.89, 1.79],\n",
    "                  [65.4, 59.2, 63.6, 88.4, 68.7]])\n",
    "\n",
    "print(type(np_2d))  # Type of Array\n",
    "print(np_2d)  # value of variable\n",
    "print(type(np_2d[1][1]))"
   ]
  },
  {
   "cell_type": "markdown",
   "metadata": {},
   "source": [
    "### Shape of Array"
   ]
  },
  {
   "cell_type": "code",
   "execution_count": 20,
   "metadata": {},
   "outputs": [
    {
     "name": "stdout",
     "output_type": "stream",
     "text": [
      "(2, 5)\n"
     ]
    }
   ],
   "source": [
    "print(np_2d.shape)  # output :- (2,5) 2 represent row & 5 column"
   ]
  },
  {
   "cell_type": "code",
   "execution_count": 30,
   "metadata": {},
   "outputs": [
    {
     "name": "stdout",
     "output_type": "stream",
     "text": [
      "[['1.73' '1.68' '1.71' '1.89' '1.79']\n",
      " ['65.4' '59.2' '63.6' '88.4' '68.7']]\n",
      "<class 'numpy.ndarray'>\n",
      "<class 'numpy.str_'>\n"
     ]
    }
   ],
   "source": [
    "np_trial = np.array([[1.73, 1.68, 1.71, 1.89, 1.79],\n",
    "                     [65.4, 59.2, 63.6, 88.4, \"68.7\"]]) \n",
    "\n",
    "print(np_trial)\n",
    "print(type(np_trial))\n",
    "print(type(np_trial[1][1])) # Single type "
   ]
  },
  {
   "cell_type": "markdown",
   "metadata": {},
   "source": [
    "#### Positining of Array"
   ]
  },
  {
   "cell_type": "raw",
   "metadata": {},
   "source": [
    "Column(index) : 0      1     2    3      4     \n",
    "--------------------------------------------------\n",
    "       array([[1.73, 1.68, 1.71, 1.89, 1.79],          #  ROW 1 (index = 0)\n",
    "              [65.4, 59.2, 63.6, 88.4, 68.7]])         #  ROW 2 (index = 1)\n",
    "\n",
    "(2, 5) :- 2(0-1) Row \n",
    "        & 5(0-4) Column"
   ]
  },
  {
   "cell_type": "markdown",
   "metadata": {},
   "source": [
    "#### Subsetting of 2D Numpy Array"
   ]
  },
  {
   "cell_type": "code",
   "execution_count": 37,
   "metadata": {},
   "outputs": [
    {
     "name": "stdout",
     "output_type": "stream",
     "text": [
      "[1.73 1.68 1.71 1.89 1.79]\n",
      "[65.4 59.2 63.6 88.4 68.7]\n",
      "1.71\n",
      "1.71\n",
      "[[ 1.68  1.71]\n",
      " [59.2  63.6 ]]\n",
      "[65.4 59.2 63.6 88.4 68.7]\n"
     ]
    }
   ],
   "source": [
    "np_trial = np.array([[1.73, 1.68, 1.71, 1.89, 1.79],\n",
    "                     [65.4, 59.2, 63.6, 88.4, 68.7]]) \n",
    "\n",
    "\n",
    "# 1st Row \n",
    "print(np_trial[0])\n",
    "\n",
    "# 2nd Row\n",
    "print(np_trial[1])\n",
    "\n",
    "# 1st(index = 0) Row & 3rd Column(index = 2) :- 1st way\n",
    "print(np_trial[0][2])\n",
    "\n",
    "# 1st(index = 0) Row & 3rd Column(index = 2) :- 2nd Way\n",
    "print(np_trial[0,2])\n",
    "\n",
    "#Row before comma(: means include index 0 & exclude nothing),Column after comma(1:3 means include index 1 & exclude index 3)\n",
    "print(np_trial[:,1:3])\n",
    "\n",
    "#Row 2nd (index =1) , Column (every)\n",
    "print(np_trial[1,:])"
   ]
  },
  {
   "cell_type": "markdown",
   "metadata": {},
   "source": [
    "### Exercise :- Your First 2D NumPy Array"
   ]
  },
  {
   "cell_type": "raw",
   "metadata": {},
   "source": [
    "Your First 2D NumPy Array\n",
    "Before working on the actual MLB data, let's try to create a 2D numpy array from a small list of lists.\n",
    "\n",
    "In this exercise, baseball is a list of lists. The main list contains 4 elements. Each of these elements is a list containing the height and the weight of 4 baseball players, in this order. baseball is already coded for you in the script.\n",
    "\n",
    "\n",
    "Instructions:-\n",
    "1). Use np.array() to create a 2D numpy array from baseball. Name it np_baseball.\n",
    "2). Print out the type of np_baseball.\n",
    "3). Print out the shape attribute of np_baseball. Use np_baseball.shape."
   ]
  },
  {
   "cell_type": "code",
   "execution_count": 38,
   "metadata": {},
   "outputs": [
    {
     "name": "stdout",
     "output_type": "stream",
     "text": [
      "<class 'numpy.ndarray'>\n",
      "(4, 2)\n"
     ]
    }
   ],
   "source": [
    "# Create baseball, a list of lists , Every raw contains height & width\n",
    "baseball = [[180, 78.4],\n",
    "            [215, 102.7],\n",
    "            [210, 98.5],\n",
    "            [188, 75.2]]\n",
    "\n",
    "# Import numpy\n",
    "import numpy as np\n",
    "\n",
    "# Create a 2D numpy array from baseball: np_baseball\n",
    "np_baseball = np.array(baseball)\n",
    "\n",
    "# Print out the type of np_baseball\n",
    "print(type(np_baseball))\n",
    "\n",
    "# Print out the shape of np_baseball\n",
    "print(np_baseball.shape)"
   ]
  },
  {
   "cell_type": "markdown",
   "metadata": {},
   "source": [
    "#### Exercise :- Baseball data in 2D form"
   ]
  },
  {
   "cell_type": "raw",
   "metadata": {},
   "source": [
    "Baseball data in 2D form\n",
    "You have another look at the MLB data and realize that it makes more sense to restructure all this information in a 2D numpy array. This array should have 20 rows, corresponding to the 20 baseball players you have information on, and 2 columns (for height and weight).\n",
    "\n",
    "The MLB was, again, very helpful and passed you the data in a different structure, a Python list of lists. In this list of lists, each sublist represents the height and weight of a single baseball player. The name of this embedded list is baseball.\n",
    "\n",
    "Can you store the data as a 2D array to unlock numpy's extra functionality?\n",
    "\n",
    "\n",
    "Instructions:-\n",
    "1). Use np.array() to create a 2D numpy array from baseball. Name it np_baseball.\n",
    "2). Print out the shape attribute of np_baseball.  "
   ]
  },
  {
   "cell_type": "code",
   "execution_count": 46,
   "metadata": {},
   "outputs": [
    {
     "name": "stdout",
     "output_type": "stream",
     "text": [
      "(20, 2)\n",
      "74\n",
      "74\n"
     ]
    }
   ],
   "source": [
    "# baseball is available as a regular list of lists\n",
    "\n",
    "baseball = [[74, 180],\n",
    "            [74, 215],\n",
    "            [72, 210],\n",
    "            [72, 210],\n",
    "            [73, 188],\n",
    "            [69, 176],\n",
    "            [69, 209],\n",
    "            [71, 200],\n",
    "            [76, 231],\n",
    "            [71, 180],\n",
    "            [73, 188],\n",
    "            [73, 180],\n",
    "            [74, 185],\n",
    "            [74, 160],\n",
    "            [69, 180],\n",
    "            [70, 185],\n",
    "            [73, 189],\n",
    "            [75, 185],\n",
    "            [78, 219],\n",
    "            [79, 230]]\n",
    "\n",
    "# Import numpy package\n",
    "import numpy as np\n",
    "\n",
    "# Create a 2D numpy array from baseball: np_baseball\n",
    "np_baseball = np.array(baseball)\n",
    "\n",
    "# Print out the shape of np_baseball\n",
    "print(np_baseball.shape)\n",
    "print(np_baseball[1][0])\n",
    "print(np_baseball[1, 0])"
   ]
  },
  {
   "cell_type": "markdown",
   "metadata": {},
   "source": [
    "#### Exercise :- Subsetting 2D Numpy Arrays"
   ]
  },
  {
   "cell_type": "raw",
   "metadata": {},
   "source": [
    "Subsetting 2D NumPy Arrays\n",
    "If your 2D numpy array has a regular structure, i.e. each row and column has a fixed number of values, complicated ways of subsetting become very easy. Have a look at the code below where the elements \"a\" and \"c\" are extracted from a list of lists.\n",
    "\n",
    "# regular list of lists\n",
    "x = [[\"a\", \"b\"], [\"c\", \"d\"]]\n",
    "[x[0][0], x[1][0]]\n",
    "\n",
    "# numpy\n",
    "import numpy as np\n",
    "np_x = np.array(x)\n",
    "np_x[:,0]\n",
    "For regular Python lists, this is a real pain. For 2D numpy arrays, however, it's pretty intuitive! The indexes before the comma refer to the rows, while those after the comma refer to the columns. The : is for slicing; in this example, it tells Python to include all rows.\n",
    "\n",
    "The code that converts the pre-loaded baseball list to a 2D numpy array is already in the script. The first column contains the players' height in inches and the second column holds player weight, in pounds. Add some lines to make the correct selections. Remember that in Python, the first element is at index 0!\n",
    "\n",
    "\n",
    "\n",
    "instructions :-\n",
    "1). Print out the 50th row of np_baseball.\n",
    "2). Make a new variable, np_weight_lb, containing the entire second column of np_baseball.\n",
    "3). Select the height (first column) of the 124th baseball player in np_baseball and print it out."
   ]
  },
  {
   "cell_type": "code",
   "execution_count": 47,
   "metadata": {},
   "outputs": [
    {
     "name": "stdout",
     "output_type": "stream",
     "text": [
      "[ 73 188]\n",
      "75\n"
     ]
    }
   ],
   "source": [
    "# baseball is available as a regular list of lists\n",
    "baseball = [[74, 180],\n",
    "            [74, 215],\n",
    "            [72, 210],\n",
    "            [72, 210],\n",
    "            [73, 188],\n",
    "            [69, 176],\n",
    "            [69, 209],\n",
    "            [71, 200],\n",
    "            [76, 231],\n",
    "            [71, 180],\n",
    "            [73, 188],\n",
    "            [73, 180],\n",
    "            [74, 185],\n",
    "            [74, 160],\n",
    "            [69, 180],\n",
    "            [70, 185],\n",
    "            [73, 189],\n",
    "            [75, 185],\n",
    "            [78, 219],\n",
    "            [79, 230]]\n",
    "\n",
    "# Import numpy package\n",
    "import numpy as np\n",
    "\n",
    "# Create np_baseball (2 cols)\n",
    "np_baseball = np.array(baseball)\n",
    "\n",
    "# Print out the 11th row of np_baseball\n",
    "print(np_baseball[10,:])\n",
    "\n",
    "# Select the entire second column of np_baseball: np_weight_lb\n",
    "np_weight_lb = np_baseball[:,1]\n",
    "# print(np_weight_lb)\n",
    "# Print out height of 18th player\n",
    "print(np_baseball[17,0])\n"
   ]
  },
  {
   "cell_type": "markdown",
   "metadata": {},
   "source": [
    "#### Arithmetics of Numpy Array ( +, * )"
   ]
  },
  {
   "cell_type": "code",
   "execution_count": 53,
   "metadata": {},
   "outputs": [
    {
     "name": "stdout",
     "output_type": "stream",
     "text": [
      "[[1 2]\n",
      " [3 4]\n",
      " [5 6]]\n",
      "[[ 2  4]\n",
      " [ 6  8]\n",
      " [10 12]]\n",
      "[[10 10]\n",
      " [12 12]\n",
      " [14 14]]\n",
      "[[ 2  4]\n",
      " [ 6  8]\n",
      " [10 12]]\n"
     ]
    }
   ],
   "source": [
    "mat = [[1, 2],\n",
    "       [3, 4],\n",
    "       [5, 6]]\n",
    "\n",
    "import numpy as np\n",
    "np_mat = np.array(mat)\n",
    "print(np_mat)\n",
    "\n",
    "# Multiplication \n",
    "np_mat_mul = np_mat * 2\n",
    "print(np_mat_mul)\n",
    "\n",
    "# Addition \n",
    "np_mat_add = np_mat + np.array([9,8])\n",
    "print(np_mat_add)\n",
    "\n",
    "# Addition Same Array\n",
    "np_mul_add1 = np_mat + np_mat\n",
    "print(np_mul_add1)"
   ]
  },
  {
   "cell_type": "markdown",
   "metadata": {},
   "source": [
    "#### Exercise : 2D Arithmetic"
   ]
  },
  {
   "cell_type": "raw",
   "metadata": {},
   "source": [
    "2D Arithmetic\n",
    "Remember how you calculated the Body Mass Index for all baseball players? numpy was able to perform all calculations element-wise (i.e. element by element). For 2D numpy arrays this isn't any different! You can combine matrices with single numbers, with vectors, and with other matrices.\n",
    "\n",
    "Execute the code below in the IPython shell and see if you understand:\n",
    "\n",
    "import numpy as np\n",
    "np_mat = np.array([[1, 2],\n",
    "                   [3, 4],\n",
    "                   [5, 6]])\n",
    "np_mat * 2\n",
    "np_mat + np.array([10, 10])\n",
    "np_mat + np_mat\n",
    "np_baseball is coded for you; it's again a 2D numpy array with 3 columns representing height (in inches), weight (in pounds) and age (in years).\n",
    "\n",
    "\n",
    "Instructions:-\n",
    "1). You managed to get hold of the changes in height, weight and age of all baseball players. It is available as a 2D numpy array, updated. Add np_baseball and updated and print out the result.\n",
    "2). You want to convert the units of height and weight to metric (meters and kilograms respectively). As a first step, create a numpy array with three values: 0.0254, 0.453592 and 1. Name this array conversion.\n",
    "3). Multiply np_baseball with conversion and print out the result.\n"
   ]
  },
  {
   "cell_type": "code",
   "execution_count": 57,
   "metadata": {},
   "outputs": [
    {
     "name": "stdout",
     "output_type": "stream",
     "text": [
      "[[ 75.2303559  168.83775102  23.99      ]\n",
      " [ 75.02614252 231.09732309  35.69      ]\n",
      " [ 73.1544228  215.08167641  31.78      ]\n",
      " [ 73.09349925 214.23890778  36.43      ]\n",
      " [ 73.82285669 170.21799965  36.71      ]\n",
      " [ 69.99484223 184.14402711  30.39      ]\n",
      " [ 70.2303559  197.83775102  31.77      ]\n",
      " [ 72.02614252 216.09732309  36.07      ]\n",
      " [ 77.1544228  236.08167641  31.19      ]\n",
      " [ 72.09349925 184.23890778  28.05      ]\n",
      " [ 73.82285669 170.21799965  24.88      ]\n",
      " [ 74.99484223 193.14402711  24.29      ]]\n",
      "[[  1.8796    81.64656   22.99    ]\n",
      " [  1.8796    97.52228   34.69    ]\n",
      " [  1.8288    95.25432   30.78    ]\n",
      " [  1.8288    95.25432   35.43    ]\n",
      " [  1.8542    85.275296  35.71    ]\n",
      " [  1.7526    79.832192  29.39    ]\n",
      " [  1.7526    94.800728  30.77    ]\n",
      " [  1.8034    90.7184    35.07    ]\n",
      " [  1.9304   104.779752  30.19    ]\n",
      " [  1.8034    81.64656   27.05    ]\n",
      " [  1.8542    85.275296  23.88    ]\n",
      " [  1.8796    83.91452   23.29    ]]\n"
     ]
    }
   ],
   "source": [
    "# baseball is available as a regular list of lists\n",
    "# updated is available as 2D numpy array\n",
    "baseball = [[74.0, 180.0, 22.99],\n",
    "            [74.0, 215.0, 34.69],\n",
    "            [72.0, 210.0, 30.78],\n",
    "            [72.0, 210.0, 35.43],\n",
    "            [73.0, 188.0, 35.71],\n",
    "            [69.0, 176.0, 29.39],\n",
    "            [69.0, 209.0, 30.77],\n",
    "            [71.0, 200.0, 35.07],\n",
    "            [76.0, 231.0, 30.19],\n",
    "            [71.0, 180.0, 27.05],\n",
    "            [73.0, 188.0, 23.88],\n",
    "            [74.0, 185.0, 23.29]]\n",
    "\n",
    "updated = np.array([[  1.2303559 , -11.16224898,   1.        ],\n",
    "                    [  1.02614252,  16.09732309,   1.        ],\n",
    "                    [  1.1544228 ,   5.08167641,   1.        ],\n",
    "                    [  1.09349925,   4.23890778,   1.        ],\n",
    "                    [  0.82285669, -17.78200035,   1.        ],\n",
    "                    [  0.99484223,   8.14402711,   1.        ],\n",
    "                    [  1.2303559 , -11.16224898,   1.        ],\n",
    "                    [  1.02614252,  16.09732309,   1.        ],\n",
    "                    [  1.1544228 ,   5.08167641,   1.        ],\n",
    "                    [  1.09349925,   4.23890778,   1.        ],\n",
    "                    [  0.82285669, -17.78200035,   1.        ],\n",
    "                    [  0.99484223,   8.14402711,   1.        ]])\n",
    " \n",
    "# Import numpy package\n",
    "import numpy as np\n",
    "\n",
    "# Create np_baseball (3 cols)\n",
    "np_baseball = np.array(baseball)\n",
    "\n",
    "# Print out addition of np_baseball and updated\n",
    "print(np_baseball + updated)\n",
    "\n",
    "# Create numpy array: conversion\n",
    "conversion = np.array([0.0254, 0.453592, 1])\n",
    "\n",
    "# Print out product of np_baseball and conversion\n",
    "print(np_baseball * conversion)"
   ]
  },
  {
   "cell_type": "markdown",
   "metadata": {},
   "source": [
    "### NumPy: Basic Statistics\n",
    "\n",
    "-  Data Analysis\n",
    "   -  Get to know about your data\n",
    "   -  Little Data -> Simply look it\n",
    "   -  Big Data -> ??????\n",
    "   \n",
    "   \n",
    "- Numpy Functions\n",
    "  -  <code>np.mean(np_array[0:2,3:5])</code>\n",
    "  -  <code>np.median(np_array[0:2,3:5])</code>\n",
    "  -  <code>np.std(np_array[0:2,3:5])</code>\n",
    "  -  <code>np.corrcoef(np_array[0:2,3:5], np_array[0:1,5])</code>\n",
    "\n",
    "\n"
   ]
  },
  {
   "cell_type": "markdown",
   "metadata": {},
   "source": [
    "#### Exercise : Average versus median\n"
   ]
  },
  {
   "cell_type": "raw",
   "metadata": {},
   "source": [
    "Average versus median\n",
    "You now know how to use numpy functions to get a better feeling for your data. It basically comes down to importing numpy and then calling several simple functions on the numpy arrays:\n",
    "\n",
    "import numpy as np\n",
    "x = [1, 4, 8, 10, 12]\n",
    "np.mean(x)\n",
    "np.median(x)\n",
    "The baseball data is available as a 2D numpy array with 3 columns (height, weight, age) and multiple rows. The name of this numpy array is np_baseball. After restructuring the data, however, you notice that some height values are abnormally high. Follow the instructions and discover which summary statistic is best suited if you're dealing with so-called outliers.\n",
    "\n",
    "\n",
    "Instructions :-\n",
    "1). Create numpy array np_height_in that is equal to first column of np_baseball.\n",
    "2). Print out the mean of np_height_in.\n",
    "3). Print out the median of np_height_in."
   ]
  },
  {
   "cell_type": "code",
   "execution_count": 65,
   "metadata": {},
   "outputs": [
    {
     "name": "stdout",
     "output_type": "stream",
     "text": [
      "72.33333333333333\n",
      "72.5\n"
     ]
    }
   ],
   "source": [
    "\n",
    "# Import numpy\n",
    "import numpy as np\n",
    "\n",
    "np_baseball = np.array([[74.0, 180.0, 22.99],\n",
    "                        [74.0, 215.0, 34.69],\n",
    "                        [72.0, 210.0, 30.78],\n",
    "                        [72.0, 210.0, 35.43],\n",
    "                        [73.0, 188.0, 35.71],\n",
    "                        [69.0, 176.0, 29.39],\n",
    "                        [69.0, 209.0, 30.77],\n",
    "                        [71.0, 200.0, 35.07],\n",
    "                        [76.0, 231.0, 30.19],\n",
    "                        [71.0, 180.0, 27.05],\n",
    "                        [73.0, 188.0, 23.88],\n",
    "                        [74.0, 185.0, 23.29]])\n",
    "# Create np_height_in from np_baseball\n",
    "np_height_in = np_baseball[:,0]\n",
    "\n",
    "# Print out the mean of np_height_in\n",
    "print(np.mean(np_height_in))\n",
    "\n",
    "# Print out the median of np_height_in\n",
    "print(np.median(np_height_in))"
   ]
  },
  {
   "cell_type": "markdown",
   "metadata": {},
   "source": [
    "#### Exercise :- Explore the baseball data"
   ]
  },
  {
   "cell_type": "raw",
   "metadata": {},
   "source": [
    "Explore the baseball data\n",
    "Because the mean and median are so far apart, you decide to complain to the MLB. They find the error and send the corrected data over to you. It's again available as a 2D Numpy array np_baseball, with three columns.\n",
    "\n",
    "The Python script on the right already includes code to print out informative messages with the different summary statistics. Can you finish the job?\n",
    "\n",
    "\n",
    "Instructions:-\n",
    "1). The code to print out the mean height is already included. Complete the code for the median height. Replace None with the correct code.\n",
    "2). Use np.std() on the first column of np_baseball to calculate stddev. Replace None with the correct code.\n",
    "3). Do big players tend to be heavier? Use np.corrcoef() to store the correlation between the first and second column of np_baseball in corr. Replace None with the correct code.\n"
   ]
  },
  {
   "cell_type": "code",
   "execution_count": 66,
   "metadata": {},
   "outputs": [
    {
     "name": "stdout",
     "output_type": "stream",
     "text": [
      "Average: 72.33333333333333\n",
      "Median: 72.5\n",
      "Standard Deviation: 2.0138409955990952\n",
      "Correlation: [[1.         0.33568045]\n",
      " [0.33568045 1.        ]]\n"
     ]
    }
   ],
   "source": [
    "\n",
    "\n",
    "# Import numpy\n",
    "import numpy as np\n",
    "\n",
    "np_baseball = np.array([[74.0, 180.0, 22.99],\n",
    "                        [74.0, 215.0, 34.69],\n",
    "                        [72.0, 210.0, 30.78],\n",
    "                        [72.0, 210.0, 35.43],\n",
    "                        [73.0, 188.0, 35.71],\n",
    "                        [69.0, 176.0, 29.39],\n",
    "                        [69.0, 209.0, 30.77],\n",
    "                        [71.0, 200.0, 35.07],\n",
    "                        [76.0, 231.0, 30.19],\n",
    "                        [71.0, 180.0, 27.05],\n",
    "                        [73.0, 188.0, 23.88],\n",
    "                        [74.0, 185.0, 23.29]])\n",
    "\n",
    "# Print mean height (first column)\n",
    "avg = np.mean(np_baseball[:,0])\n",
    "print(\"Average: \" + str(avg))\n",
    "\n",
    "# Print median height. Replace 'None'\n",
    "med = np.median(np_baseball[:,0])\n",
    "print(\"Median: \" + str(med))\n",
    "\n",
    "# Print out the standard deviation on height. Replace 'None'\n",
    "stddev = np.std(np_baseball[:,0])\n",
    "print(\"Standard Deviation: \" + str(stddev))\n",
    "\n",
    "# Print out correlation between first and second column. Replace 'None'\n",
    "corr = np.corrcoef(np_baseball[:,0],np_baseball[:,1])\n",
    "print(\"Correlation: \" + str(corr))"
   ]
  },
  {
   "cell_type": "markdown",
   "metadata": {},
   "source": [
    "#### Exercise :- Blend it all together"
   ]
  },
  {
   "cell_type": "raw",
   "metadata": {},
   "source": [
    "Blend it all together\n",
    "In the last few exercises you've learned everything there is to know about heights and weights of baseball players. Now it's time to dive into another sport: soccer.\n",
    "\n",
    "You've contacted FIFA for some data and they handed you two lists. The lists are the following:\n",
    "\n",
    "positions = ['GK', 'M', 'A', 'D', ...]\n",
    "heights = [191, 184, 185, 180, ...]\n",
    "Each element in the lists corresponds to a player. The first list, positions, contains strings representing each player's position. The possible positions are: 'GK' (goalkeeper), 'M' (midfield), 'A' (attack) and 'D' (defense). The second list, heights, contains integers representing the height of the player in cm. The first player in the lists is a goalkeeper and is pretty tall (191 cm).\n",
    "\n",
    "\n",
    "Instructions:-\n",
    "1). Convert heights and positions, which are regular lists, to numpy arrays. Call them np_heights and np_positions.\n",
    "2). Extract all the heights of the goalkeepers. You can use a little trick here: use np_positions == 'GK' as an index for np_heights. Assign the result to gk_heights.\n",
    "3). Extract all the heights of all the other players. This time use np_positions != 'GK' as an index for np_heights. Assign the result to other_heights.\n",
    "4). Print out the median height of the goalkeepers using np.median(). Replace None with the correct code.\n",
    "5). Do the same for the other players. Print out their median height. Replace None with the correct code.\n"
   ]
  },
  {
   "cell_type": "code",
   "execution_count": 68,
   "metadata": {},
   "outputs": [
    {
     "name": "stdout",
     "output_type": "stream",
     "text": [
      "Median height of goalkeepers: 180.0\n",
      "Median height of other players: 183.0\n"
     ]
    }
   ],
   "source": [
    "# heights and positions are available as lists\n",
    "\n",
    "# Import numpy\n",
    "import numpy as np\n",
    "\n",
    "positions = ['GK',\n",
    "             'M',\n",
    "             'A',\n",
    "             'D',\n",
    "             'M',\n",
    "             'D',\n",
    "             'M',\n",
    "             'M',\n",
    "             'M',\n",
    "             'A']\n",
    "\n",
    "heights = [180,\n",
    "           187,\n",
    "           181,\n",
    "           183,\n",
    "           183,\n",
    "           180,\n",
    "           185,\n",
    "           178,\n",
    "           177,\n",
    "           183]\n",
    " \n",
    "\n",
    "# Convert positions and heights to numpy arrays: np_positions, np_heights\n",
    "np_positions = np.array(positions)\n",
    "np_heights = np.array(heights)\n",
    "\n",
    "\n",
    "# Heights of the goalkeepers: gk_heights\n",
    "gk_heights = np_heights[np_positions == 'GK']\n",
    "\n",
    "# Heights of the other players: other_heights\n",
    "other_heights = np_heights[np_positions != 'GK']\n",
    "\n",
    "# Print out the median height of goalkeepers. Replace 'None'\n",
    "print(\"Median height of goalkeepers: \" + str(np.median(gk_heights)))\n",
    "\n",
    "# Print out the median height of other players. Replace 'None'\n",
    "print(\"Median height of other players: \" + str(np.median(other_heights)))"
   ]
  },
  {
   "cell_type": "code",
   "execution_count": null,
   "metadata": {},
   "outputs": [],
   "source": []
  }
 ],
 "metadata": {
  "kernelspec": {
   "display_name": "Python 3",
   "language": "python",
   "name": "python3"
  },
  "language_info": {
   "codemirror_mode": {
    "name": "ipython",
    "version": 3
   },
   "file_extension": ".py",
   "mimetype": "text/x-python",
   "name": "python",
   "nbconvert_exporter": "python",
   "pygments_lexer": "ipython3",
   "version": "3.6.5"
  }
 },
 "nbformat": 4,
 "nbformat_minor": 2
}
